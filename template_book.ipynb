{
 "cells": [
  {
   "cell_type": "code",
   "execution_count": null,
   "metadata": {},
   "outputs": [],
   "source": [
    "model_name = 'nn_sequential'\n",
    "model_variant = 'base'"
   ]
  },
  {
   "cell_type": "code",
   "execution_count": null,
   "metadata": {},
   "outputs": [],
   "source": [
    "import pandas as pd\n",
    "\n",
    "df = pd.read_csv('spotify_dataset.csv')\n",
    "df = df.drop(columns=['Song ID', 'Artist', 'Number of Times Charted',\n",
    " 'Week of Highest Charting', 'Song Name', 'Streams', 'Release Date',\n",
    "  'Weeks Charted', 'Popularity', 'Index'])\n",
    "df = df.replace(' ','0')\n",
    "\n",
    "print('Shape of dataframe is:', df.shape)\n",
    "\n",
    "df.head(5)"
   ]
  },
  {
   "cell_type": "code",
   "execution_count": null,
   "metadata": {},
   "outputs": [],
   "source": [
    "from sklearn.preprocessing import LabelEncoder\n",
    "\n",
    "enc = LabelEncoder()\n",
    "df['Chord'] = enc.fit_transform(df.Chord.values)\n",
    "df.head()"
   ]
  },
  {
   "cell_type": "code",
   "execution_count": null,
   "metadata": {},
   "outputs": [],
   "source": [
    "df['Artist Followers'] = df['Artist Followers'].values.astype(int)\n",
    "df['Danceability'] = df['Danceability'].values.astype(float)\n",
    "df['Energy'] = df['Energy'].values.astype(float)\n",
    "df['Loudness'] = df['Loudness'].values.astype(float)\n",
    "df['Speechiness'] = df['Speechiness'].values.astype(float)\n",
    "df['Acousticness'] = df['Acousticness'].values.astype(float)\n",
    "df['Liveness'] = df['Liveness'].values.astype(float)\n",
    "df['Tempo'] = df['Tempo'].values.astype(float)\n",
    "df['Duration (ms)'] = df['Duration (ms)'].values.astype(int)\n",
    "df['Valence'] = df['Valence'].values.astype(float)\n",
    "\n",
    "y = df['Highest Charting Position'].values\n",
    "\n",
    "split = round(len(df)*0.6)\n",
    "X_train = df[:split]\n",
    "y_train = y[:split]\n",
    "X_test = df[split:]\n",
    "y_test = y[split:]\n",
    "\n",
    "print('Shape of X_train is:', X_train.shape)\n",
    "print('Shape of y_train is:', y_train.shape)\n",
    "print('Shape of X_test is:', X_test.shape)\n",
    "print('Shape of y_test is:', y_test.shape)"
   ]
  },
  {
   "cell_type": "code",
   "execution_count": null,
   "metadata": {},
   "outputs": [],
   "source": [
    "# SETTING UP KERAS CALLBACKS\n",
    "\n",
    "import os\n",
    "import time\n",
    "import tensorflow as tf\n",
    "from keras import callbacks\n",
    "\n",
    "# Borrowed from: https://www.geeksforgeeks.org/choose-optimal-number-of-epochs-to-train-a-neural-network-in-keras/\n",
    "earlystopping = callbacks.EarlyStopping(monitor =\"val_loss\", \n",
    "                                        mode =\"min\", patience = 10, \n",
    "                                        restore_best_weights = True)\n",
    "\n",
    "def exponential_decay(lr0, s):\n",
    "    def exponential_decay_fn(epoch):\n",
    "        exp = lr0 * 0.1**(epoch / s)\n",
    "        tf.summary.scalar('learning rate', data=exp, step=epoch)\n",
    "        return exp\n",
    "    return exponential_decay_fn\n",
    "\n",
    "exponential_decay_fn = exponential_decay(lr0=0.01, s=10)\n",
    "lr_scheduler = tf.keras.callbacks.LearningRateScheduler(exponential_decay_fn)\n",
    "\n",
    "root_logdir = os.path.join(os.curdir, \"./logged_models/\" + model_name + '/' + model_variant)\n",
    "def get_run_logdir():\n",
    "    run_id = time.strftime(\"run_%Y_%m_%d-%H_%M_%S\")\n",
    "    return os.path.join(root_logdir, run_id)\n",
    "\n",
    "run_log_dir = get_run_logdir()\n",
    "file_writer = tf.summary.create_file_writer(run_log_dir + \"/metrics\")\n",
    "file_writer.set_as_default()\n",
    "\n",
    "tensorboard_cb = tf.keras.callbacks.TensorBoard(run_log_dir)\n",
    "\n",
    "my_callbacks = [earlystopping]"
   ]
  },
  {
   "cell_type": "code",
   "execution_count": null,
   "metadata": {},
   "outputs": [],
   "source": [
    "from tensorflow.keras import layers\n",
    "\n",
    "model = tf.keras.Sequential([\n",
    "        layers.Dense(2, activation=\"relu\"),\n",
    "        layers.Dense(3, activation=\"relu\"),\n",
    "        layers.Dense(4),\n",
    "])\n",
    "\n",
    "model.compile(loss='mean_squared_error', optimizer='adam', metrics=['accuracy'])\n",
    "\n",
    "history = model.fit(X_train['Artist Followers'], y_train, epochs=50, callbacks=my_callbacks, validation_split=0.2)\n",
    "\n",
    "model.summary()"
   ]
  }
 ],
 "metadata": {
  "language_info": {
   "name": "python"
  },
  "orig_nbformat": 4
 },
 "nbformat": 4,
 "nbformat_minor": 2
}
